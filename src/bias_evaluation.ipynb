{
 "cells": [
  {
   "cell_type": "markdown",
   "id": "e03e2d9f",
   "metadata": {},
   "source": [
    "# Bias evaluation"
   ]
  },
  {
   "cell_type": "markdown",
   "id": "f7b63fd1",
   "metadata": {},
   "source": [
    "In this notebook, in the first part we implement and explore bias metrics for initial and hard-debiased versions of embeddings:\n",
    "- L2 distance\n",
    "- Cosine similarity[8]\n",
    "- MAC[4]\n",
    "- Direct and Indirect Bias[1]\n",
    "- WEAT[2]\n",
    "- WEFAT[2]\n",
    "- SAME[8]\n",
    "- ECT[9]\n",
    "- Classification accuracy on SVM and KMeans[1]\n",
    "- Bias analogy test[9]\n",
    "\n",
    "Analyzed embeddings:\n",
    "- Word2Vec[6]  with vectors of length 300 trained on GoogleNews\n",
    "- Its debiased version[1] from: https://github.com/tolga-b/debiaswe\n",
    "- Glove[7]\n",
    "- Debiased Glove\n",
    "\n",
    "In the second part, we implement the SEAT[5] method for contextualized BERT[3] embedding and test it against attribute word groups related to career/family, science/art, and math/art. We also study the influence of the context (\"he\" and \"she\") on profession words and measure the values of the WEAT[2] test for sentences like \"She is a doctor\" and \"He is a doctor\"."
   ]
  },
  {
   "cell_type": "code",
   "execution_count": 1,
   "id": "c7d91685",
   "metadata": {},
   "outputs": [],
   "source": [
    "# initialize paths to our embeddings\n",
    "path_biased = \"../bias_data/GoogleNews-vectors-negative300.txt\"\n",
    "path_debiased = \"../bias_data/GoogleNews-vectors-negative300-hard-debiased.txt\""
   ]
  },
  {
   "cell_type": "code",
   "execution_count": 78,
   "id": "dd9ed794",
   "metadata": {},
   "outputs": [],
   "source": [
    "import numpy as np\n",
    "from tqdm import tqdm\n",
    "import scipy\n",
    "from matplotlib import pyplot as plt \n",
    "import os\n",
    "import pandas as pd\n",
    "import seaborn as sns \n",
    "\n",
    "from sklearn.svm import SVC\n",
    "from sklearn.metrics import accuracy_score as accuracy\n",
    "from sklearn.cluster import KMeans\n",
    "\n",
    "from gensim.models import KeyedVectors\n",
    "sns.set()"
   ]
  },
  {
   "cell_type": "markdown",
   "id": "086826bd",
   "metadata": {},
   "source": [
    "To conduct tests, we rely on groups of attribute words that reflect gender stereotypes. By evaluating the distances between attribute embeddings, we can identify patterns in the vector space of words."
   ]
  },
  {
   "cell_type": "code",
   "execution_count": 3,
   "id": "15903fe1",
   "metadata": {},
   "outputs": [],
   "source": [
    "words_m = [\"male\", \"man\", \"boy\", \"brother\", \"he\", \"him\", \"his\", \"son\"]\n",
    "words_f = [\"female\", \"woman\", \"girl\", \"sister\", \"she\", \"her\", \"hers\", \"daughter\"]\n",
    "attributes_career = ['executive', 'management', 'professional','corporation','salary','office','business','career']\n",
    "attributes_family = ['home','parents','children','family','cousins','marriage','wedding','relatives']\n",
    "attributes_art = [\"poetry\",\"art\",\"dance\",\"literature\",\"novel\",\"symphony\",\"drama\",\"sculpture\"]\n",
    "attributes_math = [\"math\",\"algebra\",\"geometry\",\"calculus\",\"equations\",\"computation\",\"numbers\",\"addition\"]\n",
    "attributes_science = [\"science\",\"technology\",\"physics\",\"chemistry\",\"einstein\",\"nasa\",\"experiment\",\"astronomy\"]\n",
    "professions = [\"nurse\", \"hairdresser\", \"cook\", \"teacher\", \"pilot\", \"engineer\", \"doctor\", \"driver\", \"ballerina\", \n",
    "               \"officer\", \"pharmacist\", \"investigator\", \"commentator\", \"footballer\", \"researcher\", \"stylist\", \"historian\"]\n",
    "attributes_indirect = [\"housekeeper\", \"football\", \"softball\"]\n",
    "all_words = words_m + words_f + attributes_career + attributes_art + attributes_family + attributes_math + attributes_science +\\\n",
    "    professions + attributes_indirect\n",
    "\n",
    "attributes = {\"career\": attributes_career, \"family\": attributes_family, \"art\": attributes_art, \"math\":\n",
    "             attributes_math, \"science\": attributes_science}\n",
    "save_results = {\"biased\": {}, \"debiased\": {}}"
   ]
  },
  {
   "cell_type": "code",
   "execution_count": 4,
   "id": "a2806f27",
   "metadata": {},
   "outputs": [],
   "source": [
    "def load_vocab(path):\n",
    "    \"\"\"\n",
    "    Load vocabulary embeddiing. \n",
    "    \"\"\"\n",
    "    vocab = {}\n",
    "    with open(path) as voc:\n",
    "        for idx, line in tqdm(enumerate(voc)):\n",
    "            if idx > 0:\n",
    "                split_line = line.split()\n",
    "                curr_word = split_line[0]\n",
    "                if curr_word in all_words: \n",
    "                    vocab[curr_word] = np.array(split_line[1:], dtype=np.float64)\n",
    "    return vocab "
   ]
  },
  {
   "cell_type": "code",
   "execution_count": 5,
   "id": "4d4ecb35",
   "metadata": {},
   "outputs": [
    {
     "name": "stderr",
     "output_type": "stream",
     "text": [
      "3000001it [01:43, 29034.65it/s]\n",
      "3000001it [01:42, 29158.22it/s]\n"
     ]
    }
   ],
   "source": [
    "BIASED = load_vocab(path_biased)\n",
    "EMBED_WORDS_VOC = load_vocab(path_debiased)\n",
    "get_embeds_debiased = lambda words: np.array([EMBED_WORDS_VOC[w] for w in words])\n",
    "get_embeds_biased = lambda words: np.array([BIASED[w] for w in words])"
   ]
  },
  {
   "cell_type": "code",
   "execution_count": 6,
   "id": "89b9b84a",
   "metadata": {},
   "outputs": [],
   "source": [
    "male_biased, female_biased = np.mean(get_embeds_biased(words_m), 0), np.mean(get_embeds_biased(words_f), 0)\n",
    "male_debiased, female_debiased = np.mean(get_embeds_debiased(words_m), 0), np.mean(get_embeds_debiased(words_f), 0)"
   ]
  },
  {
   "cell_type": "markdown",
   "id": "527f6891",
   "metadata": {},
   "source": [
    "## L2 distance "
   ]
  },
  {
   "cell_type": "markdown",
   "id": "2f43a47a",
   "metadata": {},
   "source": [
    "$L_2 (p, q) = \\sqrt {\\sum_{k=1}^n {(p_k - q_k)^2}}$"
   ]
  },
  {
   "cell_type": "markdown",
   "id": "57d6d56d",
   "metadata": {},
   "source": [
    "Embeddings are vectors, the semantic similarity between which can be determined using classical metrics used in linear algebra, such as the Euclidean metric. [10]"
   ]
  },
  {
   "cell_type": "code",
   "execution_count": 7,
   "id": "c5cbb236",
   "metadata": {},
   "outputs": [],
   "source": [
    "def L2distance(x, y):\n",
    "    return np.linalg.norm(x - y)"
   ]
  },
  {
   "cell_type": "code",
   "execution_count": 8,
   "id": "5482e095",
   "metadata": {},
   "outputs": [],
   "source": [
    "def fill_vocab(name_func, func, save_results):\n",
    "    \"\"\"\n",
    "    Add results to results vocabulary.\n",
    "    \"\"\"\n",
    "    save_results[\"biased\"][name_func], save_results[\"debiased\"][name_func] = {}, {}\n",
    "    for attr in list(attributes.keys()):\n",
    "        \n",
    "        save_results[\"biased\"][name_func][attr] = \\\n",
    "                (np.mean([func(male_biased, elem) for elem in get_embeds_biased(attributes[attr])], 0), \\\n",
    "                np.mean([func(female_biased, elem) for elem in get_embeds_biased(attributes[attr])], 0))\n",
    "\n",
    "        save_results[\"debiased\"][name_func][attr] = \\\n",
    "                (np.mean([func(male_debiased, elem) for elem in get_embeds_debiased(attributes[attr])], 0), \\\n",
    "                 np.mean([func(female_debiased, elem) for elem in get_embeds_debiased(attributes[attr])], 0))\n",
    "    return save_results "
   ]
  },
  {
   "cell_type": "code",
   "execution_count": 9,
   "id": "c57d885d",
   "metadata": {},
   "outputs": [],
   "source": [
    "save_results = fill_vocab(\"L2\", L2distance, save_results)"
   ]
  },
  {
   "cell_type": "code",
   "execution_count": 10,
   "id": "5990ab9c",
   "metadata": {},
   "outputs": [
    {
     "data": {
      "text/plain": [
       "('Biased:', 2.9860356778030956, 3.286386430601393)"
      ]
     },
     "execution_count": 10,
     "metadata": {},
     "output_type": "execute_result"
    }
   ],
   "source": [
    "# simple test \n",
    "\"Biased:\", np.mean([L2distance(BIASED[\"he\"], elem) for elem in get_embeds_biased(attributes_career)]), np.mean([L2distance(BIASED[\"she\"], elem) for elem in get_embeds_biased(attributes_career)])"
   ]
  },
  {
   "cell_type": "code",
   "execution_count": 11,
   "id": "b1fb00bf",
   "metadata": {},
   "outputs": [
    {
     "data": {
      "text/plain": [
       "('Debiased:', 1.3357664887002534, 1.3357668881967388)"
      ]
     },
     "execution_count": 11,
     "metadata": {},
     "output_type": "execute_result"
    }
   ],
   "source": [
    "\"Debiased:\", np.mean([L2distance(EMBED_WORDS_VOC[\"he\"], elem) for elem in get_embeds_debiased(attributes_career)]), np.mean([L2distance(EMBED_WORDS_VOC[\"she\"], elem) for elem in get_embeds_debiased(attributes_career)])"
   ]
  },
  {
   "cell_type": "markdown",
   "id": "2005d585",
   "metadata": {},
   "source": [
    "However, the Euclidean metric in the case of unnormalized vectors reflects the magnitude, and not the angle, which in the space of words is less important than the scalar product of vectors. This conclusion is based on the property of embeddings to reflect semantic relationships in the form of directions. In this regard, the following metrics will be based on cosine similarity."
   ]
  },
  {
   "cell_type": "markdown",
   "id": "dbba9693",
   "metadata": {},
   "source": [
    "### Occupations gender bias "
   ]
  },
  {
   "cell_type": "markdown",
   "id": "5191797f",
   "metadata": {},
   "source": [
    "As an example of a comparison based on the Euclidean metric, we analyzed the distance between job embeddings and $he$ and $she$ vectors. The graph below shows a comparison of initial and debyased embeddings. The x-axis shows L2 distance between the vector representation of the word $he$ and the representations of professions, the y-axis between the representation of the word $she$ and the same professions. Accordingly, the farther from the origin along the x-axis the profession is represented, the greater the difference with the word $he$, that is, the less it corresponds to the stereotypes about the \"male\" profession, similarly for the y-axis."
   ]
  },
  {
   "cell_type": "code",
   "execution_count": 81,
   "id": "9d267915",
   "metadata": {},
   "outputs": [
    {
     "data": {
      "image/png": "[encoded data removed]",
      "text/plain": [
       "<Figure size 1152x576 with 2 Axes>"
      ]
     },
     "metadata": {},
     "output_type": "display_data"
    }
   ],
   "source": [
    "x, y, x_b, y_b = [], [], [], [] \n",
    "for elem in get_embeds_debiased(professions): \n",
    "    x.append(L2distance(elem, EMBED_WORDS_VOC[\"he\"]))\n",
    "    y.append(L2distance(elem, EMBED_WORDS_VOC[\"she\"]))\n",
    "    \n",
    "for elem in get_embeds_biased(professions): \n",
    "    x_b.append(L2distance(elem, BIASED[\"he\"]))\n",
    "    y_b.append(L2distance(elem, BIASED[\"she\"]))\n",
    "\n",
    "fig, ax = plt.subplots(ncols=2, figsize=(16, 8))\n",
    "ax[0].scatter(x, y)\n",
    "ax[1].scatter(x_b, y_b)\n",
    "ax[0].set_title(\"Debiased\")\n",
    "ax[1].set_title(\"Biased\")\n",
    "for i in range(2):\n",
    "    ax[i].set_xlabel(\"Man\")\n",
    "    ax[i].set_ylabel(\"Woman\")\n",
    "\n",
    "for i, txt in enumerate(professions):\n",
    "    ax[0].annotate(txt, (x[i], y[i]), fontsize=11)\n",
    "    ax[1].annotate(txt, (x_b[i], y_b[i]), fontsize=11)\n",
    "    \n",
    "plt.suptitle(\"Professions by L2 distance\")\n",
    "plt.tight_layout()"
   ]
  },
  {
   "cell_type": "markdown",
   "id": "c2a47e7b",
   "metadata": {},
   "source": [
    "As a result, for debiased embeddings, most of the professions lined up in a single line. For the initial set, a linear relationship can be identified, with the exception of a group of professions such as *engineer, football player and historian*, which are grouped away from the general linear relationship. The results obtained can be interpreted as the preservation of stereotypes about \"non-female\" professions in the initial set of vectors.   "
   ]
  },
  {
   "cell_type": "markdown",
   "id": "edfea418",
   "metadata": {},
   "source": [
    "## Cosine similarity "
   ]
  },
  {
   "cell_type": "markdown",
   "id": "c73cbae1",
   "metadata": {},
   "source": [
    "$S_c(p, q) = \\frac{\\sum_{k=1}^n {p_k q_k}}{\\sqrt{\\sum_{k=1}^n {q_k^2}}\\sqrt{\\sum_{k=1}^n {p_k^2}}}$"
   ]
  },
  {
   "cell_type": "markdown",
   "id": "97b82478",
   "metadata": {},
   "source": [
    "The basis of many metrics for assessing bias in the vector representation of words is cosine similarity [8]. Due to the ability to determine the direction of vectors even in the case of a difference in magnitudes, this metric allows us to measure the similarity of the directions of words, and hence the correlation of their semantic representation."
   ]
  },
  {
   "cell_type": "code",
   "execution_count": 13,
   "id": "85f74c64",
   "metadata": {},
   "outputs": [],
   "source": [
    "def cosine_similarity(x, y):\n",
    "    return np.dot(x, y) / (np.linalg.norm(x) * np.linalg.norm(y))"
   ]
  },
  {
   "cell_type": "code",
   "execution_count": 14,
   "id": "6b584bec",
   "metadata": {},
   "outputs": [],
   "source": [
    "save_results[\"biased\"][\"cos\"], save_results[\"debiased\"][\"cos\"] = {}, {}\n",
    "for attr in list(attributes.keys()):\n",
    "    save_results[\"biased\"][\"cos\"][attr] = \\\n",
    "            (cosine_similarity(BIASED[\"he\"], np.mean(get_embeds_biased(attributes[attr]), 0)), \\\n",
    "             cosine_similarity(BIASED[\"she\"], np.mean(get_embeds_biased(attributes[attr]), 0)))\n",
    "    \n",
    "    save_results[\"debiased\"][\"cos\"][attr] = \\\n",
    "            (cosine_similarity(EMBED_WORDS_VOC[\"he\"], np.mean(get_embeds_debiased(attributes[attr]), 0)),\n",
    "             cosine_similarity(EMBED_WORDS_VOC[\"she\"], np.mean(get_embeds_debiased(attributes[attr]), 0)))"
   ]
  },
  {
   "cell_type": "markdown",
   "id": "562b5891",
   "metadata": {},
   "source": [
    "The distance between the vector representation of 2 words may not necessarily be due to the manifestation of gender stereotypes. To level possible side effects, it is necessary to expand the set of attribute words in relation to which testing is carried out."
   ]
  },
  {
   "cell_type": "markdown",
   "id": "fd51822a",
   "metadata": {},
   "source": [
    "## Mean Average Cosine"
   ]
  },
  {
   "cell_type": "markdown",
   "id": "8528528e",
   "metadata": {},
   "source": [
    "$MAC(T, A) = \\frac{1}{N} \\sum_{t \\in T} \\sum_{A_j \\in A} S(t, A_j),$\n",
    "\n",
    "where $S(t, A_j)= \\frac{1}{N} \\sum_{a \\in A_j} 1 -\\cos(t, a). $"
   ]
  },
  {
   "cell_type": "markdown",
   "id": "5af246b3",
   "metadata": {},
   "source": [
    "This metric (Manzini et al.[4]) calculates the average distance between words and a group of attributes, which makes it possible to conclude that the term is related to a whole group of words, combined in our case by gender stereotype."
   ]
  },
  {
   "cell_type": "code",
   "execution_count": 169,
   "id": "7519b216",
   "metadata": {},
   "outputs": [],
   "source": [
    "def MAC(words, attributes):\n",
    "    if type(words) != list:\n",
    "        words = [words]\n",
    "    return np.mean([[cosine_similarity(w, at) for w in words] for at in attributes])"
   ]
  },
  {
   "cell_type": "code",
   "execution_count": 170,
   "id": "054e090e",
   "metadata": {},
   "outputs": [],
   "source": [
    "save_results = fill_vocab(\"mac\", MAC, save_results)"
   ]
  },
  {
   "cell_type": "markdown",
   "id": "ab4e6e74",
   "metadata": {},
   "source": [
    "However, MAC uses the direct associations instead of contrasting terms (Caliskan et al. [2]) or measuring the correlation with a bias direction (Bolukbasi et al. [1]), so researchers use it mostly for multi-class problems."
   ]
  },
  {
   "cell_type": "markdown",
   "id": "d3a0c7f4",
   "metadata": {},
   "source": [
    "## Direct and indirect bias "
   ]
  },
  {
   "cell_type": "markdown",
   "id": "578f8b44",
   "metadata": {},
   "source": [
    "### Direct bias"
   ]
  },
  {
   "cell_type": "markdown",
   "id": "18047932",
   "metadata": {},
   "source": [
    "$DirectBias(N, g) = \\frac{1}{|N|} \\sum_{w \\in N} |\\cos(w, g)|$\n",
    "\n",
    "where $g$ - bias direction (embeddings of $\\it{she} - \\it{he}$) , $N$ - set of words. "
   ]
  },
  {
   "cell_type": "markdown",
   "id": "b283610a",
   "metadata": {},
   "source": [
    "This metric describes the ratio of word representations to the direction of the bias, expressed as the difference between the representations of words $he$ and $she$ [1]. By minimizing this distance, debiasing according to the geometric definition of bias can be achieved."
   ]
  },
  {
   "cell_type": "code",
   "execution_count": 17,
   "id": "9f48191e",
   "metadata": {},
   "outputs": [],
   "source": [
    "def direct_bias(words, gender_direction): \n",
    "    return np.mean([cosine_similarity(word, gender_direction)for word in words])"
   ]
  },
  {
   "cell_type": "code",
   "execution_count": 18,
   "id": "858ebaae",
   "metadata": {},
   "outputs": [],
   "source": [
    "gender_direction_biased = female_biased - male_biased\n",
    "gender_direction_debiased = female_debiased - male_debiased"
   ]
  },
  {
   "cell_type": "code",
   "execution_count": 19,
   "id": "dce330c0",
   "metadata": {},
   "outputs": [],
   "source": [
    "save_results[\"biased\"][\"direct\"], save_results[\"debiased\"][\"direct\"] = {}, {}\n",
    "for attr in list(attributes.keys()):\n",
    "    save_results[\"biased\"][\"direct\"][attr] = \\\n",
    "            direct_bias(get_embeds_biased(attributes[attr]), gender_direction_biased)\n",
    "    \n",
    "    save_results[\"debiased\"][\"direct\"][attr] = \\\n",
    "            direct_bias(get_embeds_debiased(attributes[attr]), gender_direction_debiased)"
   ]
  },
  {
   "cell_type": "markdown",
   "id": "0c99f70c",
   "metadata": {},
   "source": [
    "### Indirect bias "
   ]
  },
  {
   "cell_type": "markdown",
   "id": "185698ae",
   "metadata": {},
   "source": [
    "In addition to direct bias, indirect bias can also be detected in embeddings. It is based on the observation that some relationships in words that are not directly related to gender stereotypes turn out to be connected by patterns [1]. For example, embedding *receptionist* is closer to word *softball* than *football* that can be explained by gender stereotype. We are trying to identify these patterns."
   ]
  },
  {
   "cell_type": "code",
   "execution_count": 164,
   "id": "e8e159c7",
   "metadata": {},
   "outputs": [
    {
     "name": "stdout",
     "output_type": "stream",
     "text": [
      "Biased:\n",
      "    Housekeeper and football 0.06832213130363324\n",
      "    Housekeeper and softball 0.14898733728701483\n",
      "Debiased:\n",
      "    Housekeeper and football 0.1147494166046504\n",
      "    Housekeeper and softball 0.10590386334030766\n"
     ]
    }
   ],
   "source": [
    "print(\"Biased:\")\n",
    "print(\"    Housekeeper and football\", cosine_similarity(BIASED[\"housekeeper\"], BIASED[\"football\"]))\n",
    "print(\"    Housekeeper and softball\", cosine_similarity(BIASED[\"housekeeper\"], BIASED[\"softball\"]))\n",
    "\n",
    "print(\"Debiased:\")\n",
    "print(\"    Housekeeper and football\", cosine_similarity(EMBED_WORDS_VOC[\"housekeeper\"], EMBED_WORDS_VOC[\"football\"]))\n",
    "print(\"    Housekeeper and softball\", cosine_similarity(EMBED_WORDS_VOC[\"housekeeper\"], EMBED_WORDS_VOC[\"softball\"]))"
   ]
  },
  {
   "cell_type": "markdown",
   "id": "a51bb7dc",
   "metadata": {},
   "source": [
    "## Word Embedding Association Test "
   ]
  },
  {
   "cell_type": "markdown",
   "id": "812cc4c6",
   "metadata": {},
   "source": [
    "$WEAT(w, A, B) = \\frac{1}{n} \\sum_{a \\in A} \\cos(w, a) - \\frac{1}{n} \\sum_{b \\in B} \\cos(w, b)$"
   ]
  },
  {
   "cell_type": "markdown",
   "id": "9af07e3f",
   "metadata": {},
   "source": [
    "This test (Caliskan et al. [2]) is based on the Implicit Association Test which measures reaction times analyzing stereotypical associations.\n",
    "\n",
    "WEAT compares 2 sets of target words with 2 sets of words-attributes. Target words represent embeddings related to gender identification (A = words_m in our notation, B = words_f). Attributes demonstrate bias in relation to affinities towards stereotypic topics like X=science and Y=art. In a gender-biased vector space the scientific targets are expected to be more strongly associated with male attributes, and artistic targets with female terms."
   ]
  },
  {
   "cell_type": "code",
   "execution_count": 21,
   "id": "e44c0f30",
   "metadata": {},
   "outputs": [],
   "source": [
    "def attribute_dist(w, X, Y):\n",
    "    return np.mean([cosine_similarity(w, x) for x in X]) - np.mean(\n",
    "            [cosine_similarity(w, y) for y in Y])\n",
    "\n",
    "def WEAT(target1, target2, attr1, attr2):\n",
    "    return np.sum([attribute_dist(t1, attr1, attr2) for t1 in target1]) \\\n",
    "           - np.sum([attribute_dist(t2, attr1, attr2) for t2 in target2])\n",
    "\n",
    "def effective_size_weat(target1, target2, attr1, attr2):\n",
    "    return (np.mean([attribute_dist(t1, attr1, attr2) for t1 in target1]) -\n",
    "            np.mean([attribute_dist(t2, attr1, attr2) for t2 in target2])\n",
    "           ) / np.std([attribute_dist(w, attr1, attr2) for w in np.append(target1, target2)])"
   ]
  },
  {
   "cell_type": "code",
   "execution_count": 22,
   "id": "1f771cef",
   "metadata": {},
   "outputs": [],
   "source": [
    "save_results[\"biased\"][\"weat\"], save_results[\"debiased\"][\"weat\"] = {}, {}\n",
    "\n",
    "for man_attr, woman_attr in zip([\"career\", \"math\", \"science\"], [\"family\", \"art\", \"art\"]):\n",
    "    save_results[\"biased\"][\"weat\"][f\"{man_attr}-{woman_attr}\"] = \\\n",
    "        WEAT(get_embeds_biased(words_m), get_embeds_biased(words_f), get_embeds_biased(attributes[man_attr]),\\\n",
    "             get_embeds_biased(attributes[woman_attr]))\n",
    "    save_results[\"debiased\"][\"weat\"][f\"{man_attr}-{woman_attr}\"] = \\\n",
    "        WEAT(get_embeds_debiased(words_m), get_embeds_debiased(words_f), get_embeds_debiased(attributes[man_attr]),\\\n",
    "             get_embeds_debiased(attributes[woman_attr]))"
   ]
  },
  {
   "cell_type": "markdown",
   "id": "103933b2",
   "metadata": {},
   "source": [
    "This is one of the most common bias measurement metrics based on 2 sets of target trems and 2 sets of attribute words. Depending on these sets, one can determine the nature of the bias: in relation to science, art, family values, career, etc."
   ]
  },
  {
   "cell_type": "markdown",
   "id": "19a162a7",
   "metadata": {},
   "source": [
    "## Word-Embedding Factual Association Test"
   ]
  },
  {
   "cell_type": "markdown",
   "id": "96bfdece",
   "metadata": {},
   "source": [
    "$WEFAT(w, A, B) = \\frac{mean_{a \\in A} \\cos(w, a) -  mean_{b \\in B} \\cos(w, b)} {std_{x \\in A \\cup B \\cos(w, x)}}$"
   ]
  },
  {
   "cell_type": "markdown",
   "id": "d159a909",
   "metadata": {},
   "source": [
    "The WEFAT[2] is a standardized effect size measure of the difference in two distributions of associations between a single target word and two sets of attributes."
   ]
  },
  {
   "cell_type": "code",
   "execution_count": 23,
   "id": "e374cb47",
   "metadata": {},
   "outputs": [],
   "source": [
    "def WEFAT(w, attr1, attr2): \n",
    "    return attribute_dist(w, attr1, attr2) / np.std([cosine_similarity(w, x) for x in np.append(attr1, attr2)])"
   ]
  },
  {
   "cell_type": "code",
   "execution_count": 24,
   "id": "30480617",
   "metadata": {},
   "outputs": [],
   "source": [
    "save_results[\"biased\"][\"wefat\"], save_results[\"debiased\"][\"wefat\"] = {}, {}\n",
    "\n",
    "for man_attr, woman_attr in zip([\"career\", \"math\", \"science\"], [\"family\", \"art\", \"art\"]):\n",
    "    save_results[\"biased\"][\"wefat\"][f\"{man_attr}-{woman_attr}\"] = \\\n",
    "        (WEFAT(male_biased, get_embeds_biased(attributes[man_attr]), get_embeds_biased(attributes[woman_attr])),\\\n",
    "         WEFAT(female_biased, get_embeds_biased(attributes[man_attr]), get_embeds_biased(attributes[woman_attr])))\n",
    "    save_results[\"debiased\"][\"wefat\"][f\"{man_attr}-{woman_attr}\"] = \\\n",
    "        (WEFAT(male_debiased, get_embeds_debiased(attributes[man_attr]), get_embeds_debiased(attributes[woman_attr])),\\\n",
    "         WEFAT(female_debiased, get_embeds_debiased(attributes[man_attr]), get_embeds_debiased(attributes[woman_attr])))"
   ]
  },
  {
   "cell_type": "markdown",
   "id": "229c6d94",
   "metadata": {},
   "source": [
    "## Scoring Association Means of Word Embeddings"
   ]
  },
  {
   "cell_type": "markdown",
   "id": "dbc07c08",
   "metadata": {},
   "source": [
    "$SAME(w, A_i, A_j) = \\cos (w, \\hat{a}_i - \\hat{a}_j)$\n",
    "\n",
    "where $\\hat{a}_i = \\frac {1}{|A_i|} \\sum_{a_i \\in A_i}a_i$"
   ]
  },
  {
   "cell_type": "markdown",
   "id": "f7d9189d",
   "metadata": {},
   "source": [
    "SAME (Schröder et al. [8]) has a similar intuition to WEAT, in terms of measuring polarity between attribute sets, but sensitive to both skew and stereotype. "
   ]
  },
  {
   "cell_type": "code",
   "execution_count": 179,
   "id": "cade4ed3",
   "metadata": {},
   "outputs": [],
   "source": [
    "def SAME(words, attr1, attr2):\n",
    "    return np.mean([np.abs(cosine_similarity(w, np.mean(attr1, 0) - np.mean(attr2, 0))) for w in words])"
   ]
  },
  {
   "cell_type": "code",
   "execution_count": 193,
   "id": "b6f53367",
   "metadata": {},
   "outputs": [],
   "source": [
    "save_results[\"biased\"][\"same\"], save_results[\"debiased\"][\"same\"] = {}, {}\n",
    "\n",
    "for man_attr, woman_attr in zip([\"career\", \"math\", \"science\"], [\"family\", \"art\", \"art\"]):\n",
    "    save_results[\"biased\"][\"same\"][f\"{man_attr}-{woman_attr}\"] = \\\n",
    "        (SAME(get_embeds_biased(words_m), get_embeds_biased(attributes[man_attr]), get_embeds_biased(attributes[woman_attr])),\\\n",
    "         SAME(get_embeds_biased(words_f), get_embeds_biased(attributes[man_attr]), get_embeds_biased(attributes[woman_attr])))\n",
    "    \n",
    "    save_results[\"debiased\"][\"same\"][f\"{man_attr}-{woman_attr}\"] = \\\n",
    "        (SAME(get_embeds_debiased(words_m), get_embeds_debiased(attributes[man_attr]), get_embeds_debiased(attributes[woman_attr])),\\\n",
    "         SAME(get_embeds_debiased(words_f), get_embeds_debiased(attributes[man_attr]), get_embeds_debiased(attributes[woman_attr])))"
   ]
  },
  {
   "cell_type": "markdown",
   "id": "f06ee9d9",
   "metadata": {},
   "source": [
    "The score is magnitude-comparable and sensitive both to skew and stereotype, so it is reliable metrics to quantify bias in embeddings and can be compared between different embeddings."
   ]
  },
  {
   "cell_type": "markdown",
   "id": "72c65672",
   "metadata": {},
   "source": [
    "## Embedding Coherence Test"
   ]
  },
  {
   "cell_type": "markdown",
   "id": "36366e21",
   "metadata": {},
   "source": [
    "$ECT = Spearman([cos(w, mean(T_1)), w \\in A_1 \\cup A_2], [cos(w, mean(T_2)), w \\in A_1 \\cup A_2])$"
   ]
  },
  {
   "cell_type": "markdown",
   "id": "f6d5238c",
   "metadata": {},
   "source": [
    "ECT quantifies the amount of explicit bias based on 2 target sets and only 1 attribute set [9]. Firstly, it computes the mean vectors for the target sets and the cosine similarities with vectors of all attribute-words. The similarity scores are used to obtain the Spearman’s rank correlation. "
   ]
  },
  {
   "cell_type": "code",
   "execution_count": 51,
   "id": "06f30135",
   "metadata": {},
   "outputs": [],
   "source": [
    "def ECT(target1, target2, attr1, attr2):\n",
    "    mean1, mean2 = np.mean(target1, 0), np.mean(target2, 0)  # shape of target1[0]\n",
    "    attr = np.append(attr1, attr2, axis=0)\n",
    "    cos_sim1 = [cosine_similarity(elem, mean1) for elem in attr]\n",
    "    cos_sim2 = [cosine_similarity(elem, mean2) for elem in attr]\n",
    "    return scipy.stats.spearmanr(cos_sim1, cos_sim2)"
   ]
  },
  {
   "cell_type": "code",
   "execution_count": 52,
   "id": "8bdb53d8",
   "metadata": {},
   "outputs": [],
   "source": [
    "save_results[\"biased\"][\"ect\"], save_results[\"debiased\"][\"ect\"] = {}, {}\n",
    "\n",
    "for man_attr, woman_attr in zip([\"career\", \"math\", \"science\"], [\"family\", \"art\", \"art\"]):\n",
    "    save_results[\"biased\"][\"ect\"][f\"{man_attr}-{woman_attr}\"] = \\\n",
    "        ECT(get_embeds_biased(words_m), get_embeds_biased(words_f), get_embeds_biased(attributes[man_attr]),\\\n",
    "             get_embeds_biased(attributes[woman_attr]))\n",
    "    save_results[\"debiased\"][\"ect\"][f\"{man_attr}-{woman_attr}\"] = \\\n",
    "        ECT(get_embeds_debiased(words_m), get_embeds_debiased(words_f), get_embeds_debiased(attributes[man_attr]),\\\n",
    "             get_embeds_debiased(attributes[woman_attr]))"
   ]
  },
  {
   "cell_type": "markdown",
   "id": "f2cedf3f",
   "metadata": {},
   "source": [
    "The higher the correlation - the lower the bias. "
   ]
  },
  {
   "cell_type": "markdown",
   "id": "b8587a83",
   "metadata": {},
   "source": [
    "# Clustering"
   ]
  },
  {
   "cell_type": "markdown",
   "id": "2632109e",
   "metadata": {},
   "source": [
    "This method is based on the definition of **Goldberg et al.** (Lipstick on a Pig: Debiasing Methods Cover up Systematic Gender Biases in Word Embeddings But do not Remove Them. (2019). arXiv:1903.03862) who suggest that bias is correlated with the percentage of male/female socially-biased words among the k nearest neighbors of the target word. "
   ]
  },
  {
   "cell_type": "markdown",
   "id": "4c877a7a",
   "metadata": {},
   "source": [
    "## Support Vector Machine"
   ]
  },
  {
   "cell_type": "code",
   "execution_count": 53,
   "id": "88a77e12",
   "metadata": {},
   "outputs": [],
   "source": [
    "def clustering_svm(man_train, woman_train, man_test, woman_test):\n",
    "    cluster_data = np.append(man_train, woman_train, axis=0)\n",
    "    clf = SVC(gamma='auto')\n",
    "    clf.fit(cluster_data, np.append(np.zeros(len(man_train)), np.ones(len(woman_train))))\n",
    "    test_data = np.append(man_test, woman_test, axis=0)\n",
    "    labels = np.append(np.zeros(len(man_test)), np.ones(len(woman_test)))\n",
    "    return accuracy(labels, clf.predict(test_data))"
   ]
  },
  {
   "cell_type": "code",
   "execution_count": 54,
   "id": "1e9c5f1e",
   "metadata": {},
   "outputs": [],
   "source": [
    "save_results[\"biased\"][\"svm\"], save_results[\"debiased\"][\"svm\"] = {}, {}\n",
    "\n",
    "for man_attr, woman_attr in zip([\"career\", \"math\", \"science\"], [\"family\", \"art\", \"art\"]):\n",
    "    save_results[\"biased\"][\"svm\"][f\"{man_attr}-{woman_attr}\"] = \\\n",
    "        clustering_svm(get_embeds_biased(words_m), get_embeds_biased(words_f), get_embeds_biased(attributes[man_attr]),\\\n",
    "             get_embeds_biased(attributes[woman_attr]))\n",
    "    save_results[\"debiased\"][\"svm\"][f\"{man_attr}-{woman_attr}\"] = \\\n",
    "        clustering_svm(get_embeds_debiased(words_m), get_embeds_debiased(words_f), get_embeds_debiased(attributes[man_attr]),\\\n",
    "             get_embeds_debiased(attributes[woman_attr]))"
   ]
  },
  {
   "cell_type": "markdown",
   "id": "e0410b59",
   "metadata": {},
   "source": [
    "## K-Means"
   ]
  },
  {
   "cell_type": "code",
   "execution_count": 55,
   "id": "099ec7af",
   "metadata": {},
   "outputs": [],
   "source": [
    "def clustering_k_means(train_words, man_test, woman_test):\n",
    "    clf = KMeans(n_clusters=2)\n",
    "    clf.fit(train_words)\n",
    "    test_data = np.append(man_test, woman_test, axis=0)\n",
    "    labels = np.append(np.zeros(len(man_test)), np.ones(len(woman_test)))\n",
    "    return accuracy(labels, clf.predict(test_data))"
   ]
  },
  {
   "cell_type": "code",
   "execution_count": 56,
   "id": "4c2dcf77",
   "metadata": {},
   "outputs": [],
   "source": [
    "save_results[\"biased\"][\"kmeans\"], save_results[\"debiased\"][\"kmeans\"] = {}, {}\n",
    "\n",
    "for man_attr, woman_attr in zip([\"career\", \"math\", \"science\"], [\"family\", \"art\", \"art\"]):\n",
    "    save_results[\"biased\"][\"kmeans\"][f\"{man_attr}-{woman_attr}\"] = \\\n",
    "        clustering_k_means(list(get_embeds_biased(words_m)) + list(get_embeds_biased(words_f)), get_embeds_biased(attributes[man_attr]),\\\n",
    "             get_embeds_biased(attributes[woman_attr]))\n",
    "    save_results[\"debiased\"][\"kmeans\"][f\"{man_attr}-{woman_attr}\"] = \\\n",
    "        clustering_k_means(list(get_embeds_debiased(words_m)) + list(get_embeds_debiased(words_f)), get_embeds_debiased(attributes[man_attr]),\\\n",
    "             get_embeds_debiased(attributes[woman_attr]))"
   ]
  },
  {
   "cell_type": "code",
   "execution_count": 59,
   "id": "8b8c58c7",
   "metadata": {},
   "outputs": [],
   "source": [
    "pd.DataFrame(save_results).to_csv(path_biased.split(sep=\"/\")[-1].split(sep=\".\")[0] + \"_res.csv\")"
   ]
  },
  {
   "cell_type": "markdown",
   "id": "06f31b8b",
   "metadata": {},
   "source": [
    "## Analyzing results"
   ]
  },
  {
   "cell_type": "markdown",
   "id": "2c6ece18",
   "metadata": {},
   "source": [
    "Next, we present the results in the form of graphs to compare metrics and embeddings. First, we consider for different groups of attributes the distance from the average gender terms to attribute words. The distance is marked on the graph by a bar: the farther to minus infinity, the greater the distance from the word man. The farther to plus infinity, the greater the distance from the word woman. With qualitative filtering of stereotypes, the distances should be the same."
   ]
  },
  {
   "cell_type": "code",
   "execution_count": 152,
   "id": "ce15b150",
   "metadata": {},
   "outputs": [],
   "source": [
    "def plot_bias(metric):\n",
    "    titles = {}\n",
    "    colors = sns.color_palette()\n",
    "    cur_data = save_results[\"biased\"][metric]\n",
    "    cur_data_deb = save_results[\"debiased\"][metric]\n",
    "    for idx, elem in enumerate(cur_data.keys()):\n",
    "        line1 = plt.bar(elem, -np.abs(cur_data[elem][0]), color=colors[0], alpha=0.6)\n",
    "        plt.bar(elem, np.abs(cur_data[elem][1]), color=colors[0], alpha=0.6)\n",
    "        line2 = plt.bar(elem, -np.abs(cur_data_deb[elem][0]), color=colors[1], alpha=0.6)\n",
    "        plt.bar(elem, np.abs(cur_data_deb[elem][1]), color=colors[1], alpha=0.6)\n",
    "    plt.legend([line1, line2], ['Biased', 'Debiased'])\n",
    "    plt.suptitle(f\"{metric} between gender terms and attributes\")\n",
    "    plt.xlabel(\"Attribute topics\")\n",
    "    plt.ylabel(\"Distance from 0 to gender term\")\n",
    "    plt.show(); "
   ]
  },
  {
   "cell_type": "markdown",
   "id": "20766b9c",
   "metadata": {},
   "source": [
    "#### L2"
   ]
  },
  {
   "cell_type": "code",
   "execution_count": 153,
   "id": "5ac06310",
   "metadata": {},
   "outputs": [
    {
     "data": {
      "image/png": "[encoded data removed]",
      "text/plain": [
       "<Figure size 432x288 with 1 Axes>"
      ]
     },
     "metadata": {},
     "output_type": "display_data"
    }
   ],
   "source": [
    "plot_bias(\"L2\")"
   ]
  },
  {
   "cell_type": "markdown",
   "id": "933c6fa9",
   "metadata": {},
   "source": [
    "Despite slight differences in the case of initial data for math and career attributes, the values ​​are basically the same."
   ]
  },
  {
   "cell_type": "markdown",
   "id": "7d3e6c98",
   "metadata": {},
   "source": [
    "#### Cosine distance"
   ]
  },
  {
   "cell_type": "code",
   "execution_count": 154,
   "id": "b9313724",
   "metadata": {},
   "outputs": [
    {
     "data": {
      "image/png": "[encoded data removed]",
      "text/plain": [
       "<Figure size 432x288 with 1 Axes>"
      ]
     },
     "metadata": {},
     "output_type": "display_data"
    }
   ],
   "source": [
    "plot_bias(\"cos\")"
   ]
  },
  {
   "cell_type": "markdown",
   "id": "2fbaa430",
   "metadata": {},
   "source": [
    "#### MAC"
   ]
  },
  {
   "cell_type": "code",
   "execution_count": 171,
   "id": "6d32bcf1",
   "metadata": {},
   "outputs": [
    {
     "data": {
      "image/png": "[encoded data removed]",
      "text/plain": [
       "<Figure size 432x288 with 1 Axes>"
      ]
     },
     "metadata": {},
     "output_type": "display_data"
    }
   ],
   "source": [
    "plot_bias(\"mac\")"
   ]
  },
  {
   "cell_type": "markdown",
   "id": "aeceb01d",
   "metadata": {},
   "source": [
    "#### Direct bias"
   ]
  },
  {
   "cell_type": "code",
   "execution_count": 156,
   "id": "f2df323f",
   "metadata": {},
   "outputs": [
    {
     "data": {
      "image/png": "[encoded data removed]",
      "text/plain": [
       "<Figure size 432x288 with 1 Axes>"
      ]
     },
     "metadata": {},
     "output_type": "display_data"
    }
   ],
   "source": [
    "def one_side_plot(metric):\n",
    "    colors = sns.color_palette()\n",
    "    cur_data = save_results[\"biased\"][metric]\n",
    "    cur_data_deb = save_results[\"debiased\"][metric]\n",
    "    for idx, elem in enumerate(cur_data.keys()):\n",
    "        line1 = plt.bar(elem, np.abs(cur_data[elem]),  color=colors[1], alpha=0.6)\n",
    "        line2 = plt.bar(elem, np.abs(cur_data_deb[elem]), color=colors[0], alpha=0.6)\n",
    "    plt.legend([line1, line2], ['Biased', 'Debiased'])\n",
    "    plt.suptitle(f\"{metric} for biased and unbiased data\")\n",
    "    plt.xlabel(\"Attribute topics\")\n",
    "    plt.ylabel(f\"{metric}\")\n",
    "    plt.show(); \n",
    "one_side_plot(\"direct\")"
   ]
  },
  {
   "cell_type": "markdown",
   "id": "3b9d6ad5",
   "metadata": {},
   "source": [
    "#### WEAT "
   ]
  },
  {
   "cell_type": "code",
   "execution_count": 157,
   "id": "087618ca",
   "metadata": {},
   "outputs": [
    {
     "data": {
      "image/png": "[encoded data removed]",
      "text/plain": [
       "<Figure size 432x288 with 1 Axes>"
      ]
     },
     "metadata": {},
     "output_type": "display_data"
    }
   ],
   "source": [
    "one_side_plot(\"weat\")"
   ]
  },
  {
   "cell_type": "markdown",
   "id": "6ce775a2",
   "metadata": {},
   "source": [
    "#### WEFAT"
   ]
  },
  {
   "cell_type": "code",
   "execution_count": 158,
   "id": "9bcc25e4",
   "metadata": {},
   "outputs": [
    {
     "data": {
      "image/png": "[encoded data removed]",
      "text/plain": [
       "<Figure size 432x288 with 1 Axes>"
      ]
     },
     "metadata": {},
     "output_type": "display_data"
    }
   ],
   "source": [
    "plot_bias(\"wefat\")"
   ]
  },
  {
   "cell_type": "markdown",
   "id": "98ac99a1",
   "metadata": {},
   "source": [
    "#### SAME"
   ]
  },
  {
   "cell_type": "code",
   "execution_count": 196,
   "id": "e1230e0c",
   "metadata": {},
   "outputs": [
    {
     "data": {
      "image/png": "[encoded data removed]",
      "text/plain": [
       "<Figure size 432x288 with 1 Axes>"
      ]
     },
     "metadata": {},
     "output_type": "display_data"
    }
   ],
   "source": [
    "plot_bias(\"same\")"
   ]
  },
  {
   "cell_type": "markdown",
   "id": "1fa93ab2",
   "metadata": {},
   "source": [
    "#### ECT"
   ]
  },
  {
   "cell_type": "code",
   "execution_count": 160,
   "id": "f337e3be",
   "metadata": {},
   "outputs": [
    {
     "data": {
      "image/png": "[encoded data removed]",
      "text/plain": [
       "<Figure size 432x288 with 1 Axes>"
      ]
     },
     "metadata": {},
     "output_type": "display_data"
    }
   ],
   "source": [
    "one_side_plot(\"ect\")"
   ]
  },
  {
   "cell_type": "markdown",
   "id": "79a3d91e",
   "metadata": {},
   "source": [
    "#### SVM"
   ]
  },
  {
   "cell_type": "code",
   "execution_count": 161,
   "id": "bbb60af0",
   "metadata": {},
   "outputs": [
    {
     "data": {
      "image/png": "[encoded data removed]",
      "text/plain": [
       "<Figure size 432x288 with 1 Axes>"
      ]
     },
     "metadata": {},
     "output_type": "display_data"
    }
   ],
   "source": [
    "one_side_plot(\"svm\")"
   ]
  },
  {
   "cell_type": "markdown",
   "id": "9f92ae8c",
   "metadata": {},
   "source": [
    "#### KMeans"
   ]
  },
  {
   "cell_type": "code",
   "execution_count": 162,
   "id": "2e59ff69",
   "metadata": {},
   "outputs": [
    {
     "data": {
      "image/png": "[encoded data removed]",
      "text/plain": [
       "<Figure size 432x288 with 1 Axes>"
      ]
     },
     "metadata": {},
     "output_type": "display_data"
    }
   ],
   "source": [
    "one_side_plot(\"kmeans\")"
   ]
  },
  {
   "cell_type": "markdown",
   "id": "916a1f09",
   "metadata": {},
   "source": [
    "<hr>\n",
    "\n",
    "## Bias Analogy Test "
   ]
  },
  {
   "cell_type": "markdown",
   "id": "e72f8c83",
   "metadata": {},
   "source": [
    "In this test, we analyze the set of embeddings closest in space to words of gender [8]. The closest words are most relevant to the topic of the keyword. Thus, it is possible to reveal the manifestation of stereotypes in embeddings. This method consists of enforcing a probabilitistic definition of unbiased. For examples, P(he|doctor) = P(she|doctor). These probabilities are constructed using the definition of log conditional probability."
   ]
  },
  {
   "cell_type": "code",
   "execution_count": 197,
   "id": "a21db2b7",
   "metadata": {},
   "outputs": [],
   "source": [
    "path_debiased = os.path.abspath(path_debiased)\n",
    "model_debiased = KeyedVectors.load_word2vec_format(path_debiased, binary=False)"
   ]
  },
  {
   "cell_type": "code",
   "execution_count": 206,
   "id": "74c4b97d",
   "metadata": {},
   "outputs": [],
   "source": [
    "path_biased = os.path.abspath(path_biased)\n",
    "model_biased = KeyedVectors.load_word2vec_format(path_biased, binary=False)"
   ]
  },
  {
   "cell_type": "markdown",
   "id": "6c7d9802",
   "metadata": {},
   "source": [
    "### Biased results"
   ]
  },
  {
   "cell_type": "markdown",
   "id": "36d5f182",
   "metadata": {},
   "source": [
    "First, let's look at the closest words to the terms of gender. "
   ]
  },
  {
   "cell_type": "code",
   "execution_count": 209,
   "id": "844f2cfd",
   "metadata": {},
   "outputs": [
    {
     "data": {
      "text/plain": [
       "[('woman', 0.7664012312889099),\n",
       " ('boy', 0.6824869513511658),\n",
       " ('teenager', 0.6586929559707642),\n",
       " ('teenage_girl', 0.6147903800010681),\n",
       " ('girl', 0.5921712517738342),\n",
       " ('suspected_purse_snatcher', 0.5716366767883301),\n",
       " ('robber', 0.5585118532180786),\n",
       " ('Robbery_suspect', 0.5584409236907959),\n",
       " ('teen_ager', 0.5549196004867554),\n",
       " ('men', 0.5489761233329773)]"
      ]
     },
     "execution_count": 209,
     "metadata": {},
     "output_type": "execute_result"
    }
   ],
   "source": [
    "model_biased.most_similar(positive=['man'])"
   ]
  },
  {
   "cell_type": "code",
   "execution_count": 210,
   "id": "22ec639e",
   "metadata": {},
   "outputs": [
    {
     "data": {
      "text/plain": [
       "[('man', 0.7664011716842651),\n",
       " ('girl', 0.7494640946388245),\n",
       " ('teenage_girl', 0.7336829304695129),\n",
       " ('teenager', 0.631708562374115),\n",
       " ('lady', 0.6288788318634033),\n",
       " ('teenaged_girl', 0.6141785979270935),\n",
       " ('mother', 0.6076304912567139),\n",
       " ('policewoman', 0.6069464087486267),\n",
       " ('boy', 0.5975908041000366),\n",
       " ('Woman', 0.5770984888076782)]"
      ]
     },
     "execution_count": 210,
     "metadata": {},
     "output_type": "execute_result"
    }
   ],
   "source": [
    "model_biased.most_similar(positive=['woman'])"
   ]
  },
  {
   "cell_type": "markdown",
   "id": "4abe81e4",
   "metadata": {},
   "source": [
    "Next, we will directly consider the analogy test. If he is a programmer, then she? ..."
   ]
  },
  {
   "cell_type": "code",
   "execution_count": 213,
   "id": "00357257",
   "metadata": {},
   "outputs": [
    {
     "data": {
      "text/plain": [
       "[('programmers', 0.5277910828590393),\n",
       " ('coder', 0.5032481551170349),\n",
       " ('Programmer', 0.5006574392318726),\n",
       " ('graphic_designer', 0.4812554717063904),\n",
       " ('librarian', 0.47027212381362915),\n",
       " ('computer_programmer', 0.4556954503059387),\n",
       " ('coders', 0.45410919189453125),\n",
       " ('scrapbooker', 0.4450640082359314),\n",
       " ('copywriter', 0.4329085052013397),\n",
       " ('designer', 0.4244496822357178)]"
      ]
     },
     "execution_count": 213,
     "metadata": {},
     "output_type": "execute_result"
    }
   ],
   "source": [
    "model_biased.most_similar(negative=[\"he\"], \n",
    "                                positive=[\"programmer\", \"she\"])"
   ]
  },
  {
   "cell_type": "markdown",
   "id": "dfdff42b",
   "metadata": {},
   "source": [
    "Here we try to evaluate the model's ability to identify gender-related relationships that are not stereotypes."
   ]
  },
  {
   "cell_type": "code",
   "execution_count": 214,
   "id": "490f72b0",
   "metadata": {},
   "outputs": [
    {
     "data": {
      "text/plain": [
       "[('king', 0.7296453714370728),\n",
       " ('kings', 0.6000343561172485),\n",
       " ('monarch', 0.5462127327919006),\n",
       " ('prince', 0.5343004465103149),\n",
       " ('crown_prince', 0.4938349425792694),\n",
       " ('princes', 0.474705308675766),\n",
       " ('royal', 0.4688771367073059),\n",
       " ('queens', 0.4687727987766266),\n",
       " ('clown_prince', 0.4652290940284729),\n",
       " ('palace', 0.45582637190818787)]"
      ]
     },
     "execution_count": 214,
     "metadata": {},
     "output_type": "execute_result"
    }
   ],
   "source": [
    "model_biased.most_similar(negative=[\"she\"], \n",
    "                                positive=[\"queen\", \"he\"])"
   ]
  },
  {
   "cell_type": "markdown",
   "id": "f5f196ba",
   "metadata": {},
   "source": [
    "### Debiased results"
   ]
  },
  {
   "cell_type": "code",
   "execution_count": 201,
   "id": "b3f1a4eb",
   "metadata": {},
   "outputs": [
    {
     "data": {
      "text/plain": [
       "[('woman', 0.7592735290527344),\n",
       " ('boy', 0.7505677938461304),\n",
       " ('gentleman', 0.6794666051864624),\n",
       " ('teenager', 0.6304978728294373),\n",
       " ('Man', 0.604453980922699),\n",
       " ('teenage_girl', 0.5809280872344971),\n",
       " ('men', 0.5809245705604553),\n",
       " ('guy', 0.5636962056159973),\n",
       " ('father', 0.5629323124885559),\n",
       " ('fella', 0.5623538494110107)]"
      ]
     },
     "execution_count": 201,
     "metadata": {},
     "output_type": "execute_result"
    }
   ],
   "source": [
    "model_debiased.most_similar(positive=['man'])"
   ]
  },
  {
   "cell_type": "code",
   "execution_count": 200,
   "id": "462cef32",
   "metadata": {},
   "outputs": [
    {
     "data": {
      "text/plain": [
       "[('man', 0.7592735290527344),\n",
       " ('girl', 0.7505679130554199),\n",
       " ('teenage_girl', 0.7401474714279175),\n",
       " ('lady', 0.6794661283493042),\n",
       " ('teenager', 0.6555866003036499),\n",
       " ('Woman', 0.6044532060623169),\n",
       " ('women', 0.5809244513511658),\n",
       " ('mother', 0.5629319548606873),\n",
       " ('granny', 0.5623534321784973),\n",
       " ('schoolgirl', 0.5613598823547363)]"
      ]
     },
     "execution_count": 200,
     "metadata": {},
     "output_type": "execute_result"
    }
   ],
   "source": [
    "model_debiased.most_similar(positive=['woman'])"
   ]
  },
  {
   "cell_type": "code",
   "execution_count": 204,
   "id": "190680b3",
   "metadata": {},
   "outputs": [
    {
     "data": {
      "text/plain": [
       "[('programmers', 0.49806249141693115),\n",
       " ('Programmer', 0.4634368121623993),\n",
       " ('businesswoman', 0.46116703748703003),\n",
       " ('coder', 0.4585099220275879),\n",
       " ('programer', 0.45570406317710876),\n",
       " ('DUDES', 0.45320144295692444),\n",
       " ('AUNT', 0.4520288407802582),\n",
       " ('MOM', 0.44347575306892395),\n",
       " ('computer_programmer', 0.44230544567108154),\n",
       " ('Granny', 0.43768078088760376)]"
      ]
     },
     "execution_count": 204,
     "metadata": {},
     "output_type": "execute_result"
    }
   ],
   "source": [
    "model_debiased.most_similar(negative=[\"he\"], \n",
    "                                positive=[\"programmer\", \"she\"])"
   ]
  },
  {
   "cell_type": "code",
   "execution_count": 205,
   "id": "3b2ebf10",
   "metadata": {},
   "outputs": [
    {
     "data": {
      "text/plain": [
       "[('king', 0.9997151494026184),\n",
       " ('kings', 0.8014107346534729),\n",
       " ('prince', 0.764177680015564),\n",
       " ('King', 0.6732096076011658),\n",
       " ('monarch', 0.6264094114303589),\n",
       " ('Prince', 0.5800058841705322),\n",
       " ('crown_prince', 0.5708510279655457),\n",
       " ('princes', 0.5330067873001099),\n",
       " ('royal', 0.5320427417755127),\n",
       " ('fella', 0.5149562358856201)]"
      ]
     },
     "execution_count": 205,
     "metadata": {},
     "output_type": "execute_result"
    }
   ],
   "source": [
    "model_debiased.most_similar(negative=[\"she\"], \n",
    "                                positive=[\"queen\", \"he\"])"
   ]
  },
  {
   "cell_type": "markdown",
   "id": "24d87157",
   "metadata": {},
   "source": [
    "The disadvantage of such a test is the need for a subsequent analysis of the results."
   ]
  },
  {
   "cell_type": "markdown",
   "id": "1882717a",
   "metadata": {},
   "source": [
    "## SEAT for BERT "
   ]
  },
  {
   "cell_type": "markdown",
   "id": "1b2c18ef",
   "metadata": {},
   "source": [
    "With the development of methods for obtaining embeddings, including those capable of adapting to the context of the word, concerns about the influence of bias have decreased. However,  studies [11] have shown the imperfection of modern algorithms trained on neutral texts. To test this idea, we implemented the idea of ​​a SEAT[5] method capable of detecting bias in contextualized embeddings. His idea is to formulate simple sentences like \"This is science\" / \"This is a family\" containing attribute words that reflect gender stereotypes in society."
   ]
  },
  {
   "cell_type": "code",
   "execution_count": 141,
   "id": "53d4f3ea",
   "metadata": {},
   "outputs": [
    {
     "name": "stderr",
     "output_type": "stream",
     "text": [
      "Some weights of the model checkpoint at bert-base-uncased were not used when initializing BertModel: ['cls.predictions.decoder.weight', 'cls.predictions.transform.dense.weight', 'cls.predictions.transform.dense.bias', 'cls.seq_relationship.weight', 'cls.predictions.transform.LayerNorm.bias', 'cls.predictions.bias', 'cls.predictions.transform.LayerNorm.weight', 'cls.seq_relationship.bias']\n",
      "- This IS expected if you are initializing BertModel from the checkpoint of a model trained on another task or with another architecture (e.g. initializing a BertForSequenceClassification model from a BertForPreTraining model).\n",
      "- This IS NOT expected if you are initializing BertModel from the checkpoint of a model that you expect to be exactly identical (initializing a BertForSequenceClassification model from a BertForSequenceClassification model).\n"
     ]
    }
   ],
   "source": [
    "from transformers import BertTokenizer, BertModel\n",
    "import pandas as pd\n",
    "import torch\n",
    "\n",
    "model = BertModel.from_pretrained('bert-base-uncased',\n",
    "           output_hidden_states = True,)\n",
    "tokenizer = BertTokenizer.from_pretrained('bert-base-uncased')"
   ]
  },
  {
   "cell_type": "code",
   "execution_count": 142,
   "id": "e38adf15",
   "metadata": {},
   "outputs": [],
   "source": [
    "def bert_embeds(text, tokenizer, model):\n",
    "    marked_text = \"[CLS] \" + text + \" [SEP]\"\n",
    "    tokenized_text = tokenizer.tokenize(marked_text)\n",
    "    indexed_tokens = tokenizer.convert_tokens_to_ids(tokenized_text)\n",
    "    segments_ids = [1]*len(indexed_tokens)\n",
    "    tokens_tensor = torch.tensor([indexed_tokens])\n",
    "    segments_tensors = torch.tensor([segments_ids])\n",
    "\n",
    "    with torch.no_grad():\n",
    "        outputs = model(tokens_tensor, segments_tensors)\n",
    "        hidden_states = outputs[2][1:]\n",
    "\n",
    "    token_embeddings = hidden_states[-1]\n",
    "    token_embeddings = torch.squeeze(token_embeddings, dim=0)\n",
    "    list_token_embeddings = [token_embed.tolist() for token_embed in token_embeddings]\n",
    "\n",
    "    return list_token_embeddings"
   ]
  },
  {
   "cell_type": "markdown",
   "id": "9adf4531",
   "metadata": {},
   "source": [
    "#### SEAT "
   ]
  },
  {
   "cell_type": "code",
   "execution_count": 164,
   "id": "4efa7611",
   "metadata": {},
   "outputs": [
    {
     "name": "stderr",
     "output_type": "stream",
     "text": [
      "3it [00:07,  2.47s/it]\n",
      "3it [00:07,  2.35s/it]\n",
      "3it [00:07,  2.34s/it]\n"
     ]
    }
   ],
   "source": [
    "bert_seat = {}\n",
    "for start in [\"This is\", \"There is\", \"It is\"]:\n",
    "    bert_seat[start] = {}\n",
    "    for man_attr, woman_attr in tqdm(zip([\"career\", \"math\", \"science\"], [\"family\", \"art\", \"art\"])):\n",
    "        types = {\"targ1\": words_m, \"targ2\": words_f, \"attr1\": attributes[man_attr], \"attr2\": attributes[woman_attr]}\n",
    "        embeds = {}\n",
    "        for type_ in list(types.keys()):\n",
    "            embeds[type_] = []\n",
    "            for text in types[type_]:\n",
    "                list_token_embeddings = bert_embeds(f\"{start} {text}.\", tokenizer, model)\n",
    "                embeds[type_].append(np.stack(list_token_embeddings).mean(0))\n",
    "        bert_seat[start][f\"{man_attr}-{woman_attr}\"] = WEAT(np.array(embeds[\"targ1\"]), np.array(embeds[\"targ2\"]), np.array(embeds[\"attr1\"]), \n",
    "                                                     np.array(embeds[\"attr2\"]))"
   ]
  },
  {
   "cell_type": "code",
   "execution_count": 165,
   "id": "d720fad9",
   "metadata": {},
   "outputs": [
    {
     "data": {
      "text/plain": [
       "{'This is': {'career-family': 0.025276180113760538,\n",
       "  'math-art': -0.06090538368471543,\n",
       "  'science-art': 0.03226275139631374},\n",
       " 'There is': {'career-family': -0.03442389264508128,\n",
       "  'math-art': 0.12616574829842298,\n",
       "  'science-art': 0.08994779109297502},\n",
       " 'It is': {'career-family': 0.02933002958869435,\n",
       "  'math-art': 0.0831599028467761,\n",
       "  'science-art': 0.10379126749517043}}"
      ]
     },
     "execution_count": 165,
     "metadata": {},
     "output_type": "execute_result"
    }
   ],
   "source": [
    "bert_seat"
   ]
  },
  {
   "cell_type": "markdown",
   "id": "3e1953c4",
   "metadata": {},
   "source": [
    "#### Occupations \n",
    "Here we are trying to determine the degree of bias relative to professions. We form sentences like \"she's a doctor\" or \"he's a doctor\" and test their average with WEAT."
   ]
  },
  {
   "cell_type": "code",
   "execution_count": 171,
   "id": "34519ab1",
   "metadata": {},
   "outputs": [
    {
     "name": "stdout",
     "output_type": "stream",
     "text": [
      "0.12784300658908354\n"
     ]
    }
   ],
   "source": [
    "types = {\"targ1\": words_m, \"targ2\": words_f, \"attr1\": list(map(lambda k: \"He is \" + k, professions)), \n",
    "         \"attr2\":  list(map(lambda k: \"She is \" + k, professions))}\n",
    "embeds = {}\n",
    "for type_ in list(types.keys()):\n",
    "    embeds[type_] = []\n",
    "    for text in types[type_]:\n",
    "        list_token_embeddings = bert_embeds(text, tokenizer, model)\n",
    "        embeds[type_].append(np.stack(list_token_embeddings).mean(0))\n",
    "print(WEAT(np.array(embeds[\"targ1\"]), np.array(embeds[\"targ2\"]), np.array(embeds[\"attr1\"]), \n",
    "                                             np.array(embeds[\"attr2\"])))"
   ]
  },
  {
   "cell_type": "markdown",
   "id": "5cd053a9",
   "metadata": {},
   "source": [
    "### References \n",
    "\n",
    "[1] Bolukbasi, T., Chang, K. W., Zou, J. Y., Saligrama, V., & Kalai, A. T. (2016). Man is to computer programmer as woman is to homemaker? debiasing word embeddings. Advances in neural information processing systems, 29.\n",
    "\n",
    "[2] Caliskan, A., Bryson, J. J, & Narayanan, A. Semantics derived automatically from language corpora contain human-like biases. Science, 356(6334):183–186, 2017.\n",
    "\n",
    "[3] Devlin,J., Chang, M.-W., Lee,K., & Toutanova, K. Bert: Pre-training of deep bidirectional transformers for language understanding, 2019.\n",
    "\n",
    "[4] Manzini,T, Lim, Y. Ch., Tsvetkov,Y., & Black, A.W. Black is to criminal as caucasian is to police: Detecting and removing multiclass bias in word embeddings. CoRR, abs/1904.04047, 2019\n",
    "\n",
    "[5] May, Ch., Wang. A., Bordia, Sh., Bowman, S.R., Rudinger, R. (2019). On Measuring Social Biases in Sentence Encoders. arXiv:1903.10561.\n",
    "\n",
    "[6] Mikolov, T., Chen, K., Corrado, G., & Dean, J. (2013). Efficient estimation of word representations in vector space. arXiv preprint arXiv:1301.3781.\n",
    "\n",
    "[7] Pennington, J., Socher,R., & Manning, Ch, D. (2014). Glove: Global vectors for word representation. In Proceedings of the 2014 conference on empirical methods in natural language processing (EMNLP), pages 1532–1543\n",
    "\n",
    "[8] Schröder, S., Schulz, A., Kenneweg, Ph., Feldhans, R., Hinder, F., & Hammer, B. (2021). Evaluating Metrics for Bias in Word Embeddings. arXiv:2111.07864\n",
    "\n",
    "[9] Dev, S.,  Li, T., Phillips,J.M., Srikumar, V. (2019). On Measuring and Mitigating Biased Inferences of Word Embeddings. arXiv:1908.09369. \n",
    "\n",
    "[10] Swinger,N., De-Arteaga, M., Heffernan IV, N.T., Leiserson, M. DM, & Kalai, A.T. (2019). What are the biases in my word embedding? In Proceedings of the 2019 AAAI/ACM Conference on AI, Ethics, and Society, pages 305–311\n",
    "\n",
    "[11] Zhao,J., Wang,T., Yatskar,M., Cotterell,R., Ordonez,V., & Chang, K.-W. (2019). Gender bias in contextualized word embeddings. CoRR, abs/1904.03310"
   ]
  },
  {
   "cell_type": "code",
   "execution_count": null,
   "id": "a06dd189",
   "metadata": {},
   "outputs": [],
   "source": []
  }
 ],
 "metadata": {
  "kernelspec": {
   "display_name": "Python 3 (ipykernel)",
   "language": "python",
   "name": "python3"
  },
  "language_info": {
   "codemirror_mode": {
    "name": "ipython",
    "version": 3
   },
   "file_extension": ".py",
   "mimetype": "text/x-python",
   "name": "python",
   "nbconvert_exporter": "python",
   "pygments_lexer": "ipython3",
   "version": "3.8.7"
  }
 },
 "nbformat": 4,
 "nbformat_minor": 5
}
